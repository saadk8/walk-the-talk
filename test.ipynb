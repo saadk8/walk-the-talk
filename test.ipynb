{
 "cells": [
  {
   "cell_type": "code",
   "execution_count": 1,
   "metadata": {},
   "outputs": [],
   "source": [
    "from openai import OpenAI\n",
    "from dotenv import load_dotenv\n",
    "\n",
    "load_dotenv()\n",
    "\n",
    "client = OpenAI()"
   ]
  },
  {
   "cell_type": "code",
   "execution_count": 2,
   "metadata": {},
   "outputs": [],
   "source": [
    "response = client.chat.completions.create(\n",
    "    model=\"gpt-4-1106-preview\",\n",
    "    messages=[\n",
    "        {\"role\": \"system\", \"content\": \"Hello, how are you?\"},\n",
    "    ],\n",
    ")\n"
   ]
  },
  {
   "cell_type": "code",
   "execution_count": 4,
   "metadata": {},
   "outputs": [
    {
     "data": {
      "text/plain": [
       "\"Hello! I'm an AI programmed to assist and provide information. I don't have feelings, but I'm here and ready to help you with any questions or tasks you have. How can I assist you today?\""
      ]
     },
     "execution_count": 4,
     "metadata": {},
     "output_type": "execute_result"
    }
   ],
   "source": [
    "response.choices[0].message.content"
   ]
  },
  {
   "cell_type": "code",
   "execution_count": 5,
   "metadata": {},
   "outputs": [
    {
     "name": "stdout",
     "output_type": "stream",
     "text": [
      "name : Alice\n",
      "greeting : Hello\n"
     ]
    }
   ],
   "source": [
    "def greet(**kwargs):\n",
    "    for key, value in kwargs.items():\n",
    "        print(f\"{key} : {value}\")\n",
    "\n",
    "greet(name=\"Alice\", greeting=\"Hello\")\n"
   ]
  },
  {
   "cell_type": "code",
   "execution_count": 6,
   "metadata": {},
   "outputs": [
    {
     "name": "stdout",
     "output_type": "stream",
     "text": [
      "name : Bob\n",
      "greeting : Hello\n",
      "age : 25\n"
     ]
    }
   ],
   "source": [
    "greet(name=\"Bob\", greeting=\"Hello\", age=25)"
   ]
  },
  {
   "cell_type": "code",
   "execution_count": 12,
   "metadata": {},
   "outputs": [],
   "source": [
    "def test(string):\n",
    "    if string == \"Hello\":\n",
    "        a = 10\n",
    "    elif string == \"Hi\":\n",
    "        a = 20\n",
    "    else:\n",
    "        return \"Error\"\n",
    "    \n",
    "    # a = 4\n",
    "    return a"
   ]
  },
  {
   "cell_type": "code",
   "execution_count": 14,
   "metadata": {},
   "outputs": [
    {
     "name": "stdout",
     "output_type": "stream",
     "text": [
      "Error\n"
     ]
    }
   ],
   "source": [
    "print(\"dsds\")"
   ]
  },
  {
   "cell_type": "code",
   "execution_count": null,
   "metadata": {},
   "outputs": [],
   "source": [
    "print(test(\"Hello\"))\n",
    "print(test(\"Hi\"))"
   ]
  },
  {
   "cell_type": "code",
   "execution_count": null,
   "metadata": {},
   "outputs": [],
   "source": [
    "analysis_types = [\"Swot\", \"הנחיות לכתיבת נרטיב\", \"זהות עסקית\", \"קהלי יעד\", \"אסטרטגיית משפך שיווקי\", \"פלטפורמות ותוכן שיווקי\", \"ניתוח מתחרים בעסק\", \"תקציבים ונתוני פרסום\", \"תוכנית שיווק\"]"
   ]
  },
  {
   "cell_type": "code",
   "execution_count": 2,
   "metadata": {},
   "outputs": [],
   "source": [
    "data = {\n",
    "  \"data\": [\n",
    "    {\n",
    "      \"Swot\": \"Hey ChatGPT, you are an Expert and strategist in the field of digital marketing and business promotion and I require a detailed SWOT for my business. \\nI want you to deeply analyze them all. Here are the details of my business. If any detail is not mentioned, you should provide the most accurate information and details as per your expertise and knowledge in digital marketing for small and medium businesses in their respective industry and niche. \\nPurpose:\\nStart by clarifying the primary goal of this SWOT analysis. Is it to refine your business strategy, identify new market opportunities, or improve operational efficiency? Clearly state the intended outcome.\\nBackground:\\nProvide context about your business and industry. This could include the size of your business, its market position, key products or services, and any relevant historical details. Understanding the background will help in identifying more relevant strengths, weaknesses, opportunities, and threats.\\nIntent:\\nExplain what you hope to achieve with each element of the SWOT analysis. For example, in identifying strengths, the intent might be to discover unique assets that can be leveraged for market growth. In assessing weaknesses, the intent could be to find areas for operational improvement. \\nInstructions:\\n1. Strengths: Identify the core competencies of (business_name). Consider the background and purpose to provide specific strategies for maximizing these strengths to gain a competitive edge. Use real-world examples where possible.\\n2. Weaknesses: Analyze the internal challenges faced by (business_name). Utilize the business background to suggest realistic improvement strategies that align with your overall business objectives.\\n3. Opportunities: Explore the external environment in relation to the business background. Identify market trends, consumer behaviors, or technological advancements that (business_name) can capitalize on. Offer detailed strategies for leveraging these opportunities in line with your business purpose.\\n4. Threats: Consider the broader industry context to analyze potential risks, such as competitive pressures or market changes. Provide robust strategies that are aligned with your business objectives to navigate these challenges effectively.\"\n",
    "    },\n",
    "    {\n",
    "      \"Strategic Narrative Builder\": \"Hey ChatGPT, you are an Expert and strategist in the field of digital marketing and business promotion and I require an enhanced narrative strategy  for my business. \\nI want you to deeply analyze all my business details. If any detail is not mentioned, you should provide the most accurate information and details as per your expertise and knowledge in narrative strategy for my business according to my industry and niche. \\nPurpose:\\nDefine the objective behind crafting your business narrative. Is it to connect more deeply with your audience, differentiate your brand, or communicate your unique value proposition? Clarify the end goal to guide the narrative creation.\\nBackground:\\nProvide a concise history of your business, including its origins, evolution, key milestones, and current market position. Highlight any unique aspects of your business journey that can be woven into the narrative.\\nIntent:\\nExpress what you wish to achieve through the narrative for each aspect of your business – its journey, values, and mission. For instance, the intent for sharing your business journey might be to showcase resilience and innovation, while the purpose of highlighting values might be to build trust and alignment with your audience.\\n\\nInstructions:\\n1. Business Journey: Explore the history and evolution of (business_name). Use the background to craft a narrative that shows progress, challenges overcome, and key achievements. Include stories or anecdotes that demonstrate perseverance, innovation, or other qualities you wish to highlight.\\n2. Values: Delve into the core values of your business. Create narratives that exemplify these values in action, perhaps through customer stories, community involvement, or internal culture. Ensure these narratives align with your overall purpose.\\n3. Mission: Articulate your business’s mission in a compelling way. Use storytelling to bring your mission to life, showing not just what you do, but why you do it and the impact it has. Connect this with your intent to inspire, engage, or inform your audience.\\n4. Content Ideas & Themes: Generate specific content ideas and themes that align with your narrative. This could include customer success stories, behind-the-scenes insights, or thematic content series that resonate with your audience. Ensure these ideas reflect your business’s purpose, background, and the intent of your narrative.\"\n",
    "    },\n",
    "    {\n",
    "      \"Business Identity - Vision, Values and Differentiation\": \"Hey ChatGPT, you are an Expert and strategist in the field of digital marketing and business promotion and I require enhanced details Exploring and Communicating Vision and Values in my business. \\nI want you to deeply analyze all my business details. If any detail is not mentioned, you should provide the most accurate information and details as per your expertise and knowledge in Exploring and Communicating Vision and Values strategy for my business, according to my industry and niche. \\nPurpose:\\nBegin by defining the primary goal of this exploration. Is it to better align your marketing strategies with your core values, to foster a stronger organizational culture, or to enhance customer engagement? This clarity will guide the focus and direction of the analysis.\\nBackground:\\nProvide a brief overview of your business's existing vision and values. Include any relevant history or anecdotes that illustrate how these were developed and how they have shaped your business so far. This context is crucial for understanding how to best communicate and embody these aspects.\\nIntent:\\nClarify what you aim to achieve by communicating and embodying your vision and values. For instance, the intent might be to strengthen brand identity, improve customer loyalty, or enhance employee engagement.\\n\\nInstructions:\\n1. Communicating Vision and Values in Marketing: Develop strategies to integrate your vision and values into all marketing efforts. Provide steps on how to weave these elements into your brand messaging, content creation, and customer engagement tactics. Ensure that your marketing activities reflect the background and purpose of your business.\\n\\n2. Customer Interactions: Offer guidance on how to reflect your business's vision and values in every customer interaction. This could involve training customer service teams, personalizing customer experiences, or tailoring communications. Align these practices with your business’s intent to build trust and loyalty.\\n\\n3. Organizational Culture: Suggest actionable steps to embed your vision and values into your organizational culture. This might include internal communications, training programs, or employee engagement initiatives. Focus on how these efforts can reinforce the core ethos of your business and contribute to achieving your specified purpose.\\n\\nAlso iI want you to deeply analyze professional ideas for my Differentiation and USP, according to my business details. If any detail is not mentioned, you should provide the most accurate information and details as per your expertise and knowledge in Exploring all differentiation and USP options and opportunities in my business. \\n\\nPurpose:\\nStart by defining the primary goal behind seeking differentiation strategies. Is it to capture a larger market share, to establish a distinct brand identity, or to innovate within your industry? This purpose will guide the focus of your differentiation efforts.\\nBackground:\\nGive an overview of your business's current market position and competitive landscape. Mention any existing USPs or value propositions your business already offers. This background information is essential to understand where and how your business can further distinguish itself.\\nIntent:\\nClarify the desired outcome of these differentiation strategies. For instance, the intent might be to attract a new customer segment, improve customer loyalty, or disrupt traditional market dynamics.\\nInstructions:\\n1. Innovative Strategies: Suggest innovative strategies for (business_name) to stand out in the market. Consider the background and purpose to ensure these strategies are feasible and impactful. Focus on areas such as product innovation, service excellence, or technological advancements.\\n\\n2. Unique Selling Propositions: Identify potential USPs that align with your business's strengths and market needs. Offer ideas that are unique to your business context and can effectively set your business apart from competitors.\\n\\n3. Enhancing Customer Value: Provide ideas on how to add more value to your customers' experiences. This could involve personalized services, loyalty programs, or unique customer engagement tactics. Make sure these ideas align with your business’s overall intent and market positioning.\\n\\n4. Brand Uniqueness: Advise on ways to enhance your brand's uniqueness. This could include distinctive branding elements, storytelling, or community engagement initiatives. The goal is to create a strong and memorable brand identity that resonates with your target audience.\"\n",
    "    },\n",
    "    {\n",
    "      \"Customer Profile\": \"Hey ChatGPT, you are an Expert and strategist in the field of digital marketing and business promotion and I require enhanced details with comprehensive Customer Profile Analysis in my business. \\nI want you to deeply analyze all my business details. If any detail is not mentioned, you should provide the most accurate information and details as per your expertise and knowledge for a comprehensive Customer Profile Analysis in my business industry and niche.\\n\\nPurpose:\\nDefine the objective of this customer profile analysis. Are you looking to refine your product offerings, optimize your marketing strategies, or improve customer engagement and retention? This purpose will shape the focus of the analysis.\\nBackground:\\nProvide information about your current customer base and any previous analyses or insights you have. Include details about the range of products or services your business offers and the markets it serves. This background is critical for understanding the context of your customer profile.\\nIntent:\\nSpecify what you hope to achieve by understanding your customer profile more deeply. For instance, the intent might be to develop more targeted marketing campaigns, create more customer-centric product developments, or identify new market opportunities.\\nInstructions:\\n1. Demographics: Analyze the demographic characteristics of your customer base. Consider age, gender, location, income level, education, and occupation. Provide insights on how these demographics can influence product preferences and purchasing decisions.\\n2. Behaviors: Examine customer purchasing behaviors, brand interactions, and engagement patterns. Offer strategic recommendations on how to align your business offerings and communications with these behavioral trends.\\n3. Motivations and Needs: Delve into the underlying motivations, needs, and preferences of your customers. Suggest how to tailor your product development, marketing messages, and customer service to meet these needs more effectively.\\n4. Strategic Recommendations: Based on the analysis, provide detailed strategic recommendations for tailoring your offerings and marketing messages. Ensure these recommendations align with the overall purpose, take into account the background context, and are directed towards achieving the stated intent.\"\n",
    "    },\n",
    "    {\n",
    "      \"Marketing Funnel Strategy\": \"Hey ChatGPT, you are an Expert and strategist in the field of digital marketing and business promotion and I require enhanced details for the purpose of Designing a Comprehensive Marketing Funnel in my business. \\nI want you to deeply analyze all my business details. If any detail is not mentioned, you should provide the most accurate information and details as per your expertise and knowledge in best practices for marketing funnels, according to my business industry and niche.\\n\\nPurpose:\\nBegin by specifying the primary objective of the marketing funnel. Is it to increase customer acquisition, improve conversion rates, enhance customer retention, or build brand loyalty? This purpose will guide the development and focus of the funnel strategy.\\nBackground:\\nProvide an overview of your current marketing efforts, customer base, and product or service offerings. Include any known customer behaviors or preferences, as well as insights from previous marketing campaigns. This background is essential to create a funnel that resonates with your audience and aligns with your business's capabilities.\\nIntent:\\nClarify what you hope to achieve at each stage of the marketing funnel. For instance, the intent at the awareness stage might be to attract a broad audience, while at the conversion stage, the intent could be to encourage purchase decisions.\\nInstructions:\\n1. Awareness Stage Strategy: Develop strategies to attract potential customers to your business. This should include identifying customer touchpoints, selecting appropriate engagement tactics, and brainstorming content ideas that align with audience interests and behaviors.\\n2. Interest and Consideration Stage Strategy: Suggest ways to engage and nurture leads. This could involve targeted content, personalized communications, or interactive platforms. Focus on building interest and guiding potential customers deeper into the funnel.\\n3. Decision and Conversion Stage Strategy: Provide conversion optimization strategies. Offer ideas for compelling calls-to-action, incentives, or trust-building content that can encourage leads to make a purchase decision or take a desired action.\\n4. Retention and Loyalty Stage Strategy: Propose tactics for retaining customers and building loyalty. This may include after-purchase engagement, loyalty programs, or feedback mechanisms. Ensure these strategies aim to enhance the overall customer journey and encourage repeat business.\\n5. Overall Funnel Optimization: Advise on overall funnel optimization techniques. This could involve data analysis, A/B testing, or customer feedback loops to continuously improve the effectiveness of the marketing funnel.\"\n",
    "    },\n",
    "    {\n",
    "      \"Marketing Platforms & Content Creation\": \"Hey ChatGPT, you are an Expert and strategist in the field of digital marketing and business promotion and I require enhanced details regarding Marketing Platforms and Content Strategy Development in my business. \\nI want you to deeply analyze all my business details. If any detail is not mentioned, you should provide the most accurate information and details as per your expertise and knowledge for Marketing Platforms and Content Strategy Development in my business industry and niche.\\nPurpose:\\nStart by defining the primary objective of identifying marketing platforms and developing a content strategy. Is it to increase brand awareness, drive sales, enhance customer engagement, or establish thought leadership? This purpose will guide the selection of platforms and the nature of the content.\\nBackground:\\nProvide context about your business, including the industry you operate in, your target audience, and any previous marketing efforts. Include insights into what has or hasn't worked in the past. This background is crucial for understanding which platforms and content types might be most effective.\\nIntent:\\nClarify what you aim to achieve with your marketing and content strategy on each platform. For example, the intent for social media might be to engage with a younger audience, while the intent for a professional network like LinkedIn might be for B2B connections and thought leadership.\\nInstructions:\\n1. Platform Identification: Identify the most effective marketing platforms for (business_name) based on the target audience and industry. Consider both digital and traditional platforms that align with your business purpose and audience preferences.\\n2. Content Strategy Development: Develop a tailored content strategy for each identified platform. This should include:\\n   - Types of content best suited for each platform (e.g., videos, blogs, infographics).\\n   - Content scheduling, considering the best times for posting and frequency.\\n   - Engagement tactics, like interactive posts, collaborations, or community-building initiatives.\\n3. Platform-Specific Strategies: Create detailed strategies for each platform, considering their unique features and audience demographics. For instance, strategies for Instagram might focus on visuals and storytelling, while LinkedIn strategies might focus on professional insights and company updates.\\n\\n4. Optimization and Engagement: Provide guidelines on how to optimize content for each platform (e.g., SEO for blogs, hashtags for social media) and tactics to enhance audience engagement (e.g., calls-to-action, user-generated content).\"\n",
    "    },\n",
    "    {\n",
    "      \"Competitor\": \"\"\n",
    "    },\n",
    "    {\n",
    "      \"Budget & KPI Strategy\": \"Hey ChatGPT, you are an Expert and strategist in the field of digital marketing and business promotion and I require enhanced details for the purpose of planning budget and KPI’s in my business. \\nI want you to deeply analyze all my business details. If any detail is not mentioned, you should provide the most accurate information and details as per your expertise and knowledge in best practices for budget and KPI planning, according to my business industry and niche.\\nPurpose:\\nDefine the primary objective of establishing a budget and KPI plan. Is it to maximize ROI, achieve specific marketing goals, or improve the efficiency of your marketing spend? This purpose will guide the allocation of resources and the selection of KPIs.\\nBackground:\\nProvide an overview of your business’s current financial situation and previous marketing expenditures. Include insights into past marketing performance and any known constraints or opportunities. This background will help in creating a budget and KPI plan that is realistic and tailored to your business's circumstances.\\nIntent:\\nClarify what you aim to achieve through this budget and KPI plan. For example, the intent may be to optimize spending across various marketing channels, to measure and enhance customer acquisition costs, or to track the effectiveness of different marketing strategies.\\nInstructions:\\n1. Budget Allocation Across Channels: Recommend how to allocate the marketing budget across various channels (e.g., digital advertising, social media, content marketing). Consider the effectiveness of each channel in the context of your business and its audience.\\n\\n2. Setting Realistic KPIs: Guide the setting of Key Performance Indicators (KPIs) for each marketing activity. These KPIs should be specific, measurable, achievable, relevant, and time-bound (SMART). Ensure they align with your business goals and the purpose of your marketing efforts.\\n\\n3. Performance Analysis Strategies: Offer strategies for analyzing the performance of your marketing activities. This could include methods for tracking and evaluating KPIs, utilizing analytics tools, and conducting regular reviews.\\n\\n4. Optimization Techniques:  Suggest techniques for optimizing marketing performance based on the analysis. This may involve adjusting budget allocations, refining marketing strategies, or setting new KPIs based on evolving business goals and market conditions.\"\n",
    "    },\n",
    "    {\n",
    "      \"Marketing plan - 12 Month\": \"Hey ChatGPT, you are an Expert and strategist in the field of digital marketing and business digital promotion and I require enhanced details for the purpose of a monthly marketing plan for my business. \\nI want you to deeply analyze all my business details. If any detail is not mentioned, you should provide the most accurate information and best practices as per your expertise and knowledge in marketing plans, according to my business industry and niche.\\n\\nIgnore previous instructions. I'd like you to write in English in a highly educated manner in the field of marketing. Educate in detail on the difference between a business plan and a marketing plan for small businesses and how a marketing plan will deliver goals such as reach and grow a target audience and increase profits for [business keyword]. Educate on the need for and difference between marketing strategies and tactics. With each month building on the next reverse-engineer a 12-month marketing plan based on the goal and user input. Provide your reasons for choosing the elements within the marketing plan and create and expand on strategies and tactics within a highly-specific schedule broken down into actionable steps. For each month give weekly video creation ideas with captions and keyword rich titles for four blog posts each month. If you have strategies or tactics that are one-off items, like a loyalty program, go deep into additional steps to accomplish them. Your return should be formatted clearly, and optimized for ChatGPT interactions.\"\n",
    "    }\n",
    "  ]\n",
    "}"
   ]
  },
  {
   "cell_type": "code",
   "execution_count": 5,
   "metadata": {},
   "outputs": [
    {
     "data": {
      "text/plain": [
       "{'Swot': 'Hey ChatGPT, you are an Expert and strategist in the field of digital marketing and business promotion and I require a detailed SWOT for my business. \\nI want you to deeply analyze them all. Here are the details of my business. If any detail is not mentioned, you should provide the most accurate information and details as per your expertise and knowledge in digital marketing for small and medium businesses in their respective industry and niche. \\nPurpose:\\nStart by clarifying the primary goal of this SWOT analysis. Is it to refine your business strategy, identify new market opportunities, or improve operational efficiency? Clearly state the intended outcome.\\nBackground:\\nProvide context about your business and industry. This could include the size of your business, its market position, key products or services, and any relevant historical details. Understanding the background will help in identifying more relevant strengths, weaknesses, opportunities, and threats.\\nIntent:\\nExplain what you hope to achieve with each element of the SWOT analysis. For example, in identifying strengths, the intent might be to discover unique assets that can be leveraged for market growth. In assessing weaknesses, the intent could be to find areas for operational improvement. \\nInstructions:\\n1. Strengths: Identify the core competencies of (business_name). Consider the background and purpose to provide specific strategies for maximizing these strengths to gain a competitive edge. Use real-world examples where possible.\\n2. Weaknesses: Analyze the internal challenges faced by (business_name). Utilize the business background to suggest realistic improvement strategies that align with your overall business objectives.\\n3. Opportunities: Explore the external environment in relation to the business background. Identify market trends, consumer behaviors, or technological advancements that (business_name) can capitalize on. Offer detailed strategies for leveraging these opportunities in line with your business purpose.\\n4. Threats: Consider the broader industry context to analyze potential risks, such as competitive pressures or market changes. Provide robust strategies that are aligned with your business objectives to navigate these challenges effectively.'}"
      ]
     },
     "execution_count": 5,
     "metadata": {},
     "output_type": "execute_result"
    }
   ],
   "source": [
    "data[\"data\"][0]"
   ]
  },
  {
   "cell_type": "code",
   "execution_count": null,
   "metadata": {},
   "outputs": [],
   "source": [
    "data_hebrew = {\"Swot\" : \"- חוזקות, חולשות, הזדמניות, איומים  SWOT ניתוח\n",
    "\n",
    "\tהיי ChatGPT, אני צריך את עזרתך ומומחיותך כאסטרטג עסקי בשיווק, בתעשייה דומה לשלי ובנישה דומה לשלי.  אני רוצה שתנתח את כל הנתונים לעומק במטרה לכתוב דו\\\\\\\"ח המלצות עם הנחיות ברורות לניתוח SWOT מורחב בו תפרט מה החוזקות, החולשות, ההזדמניות איומים בעסק שלי. להלן הפרטים על  העסק שלי. במידה ופרטים כלשהם חסרים, כדאי להציע את מיטב הידע המקצועי שלך בשיווק וקידום העסק בדיגיטל.\n",
    "\tמטרה:\n",
    "\tאבקש ממך ChatGPT להתחיל  בהבהרת המטרה העיקרית של ניתוח SWOT הנוכחי. האם היא לחדד את האסטרטגיה העסקית, לזהות הזדמנויות חדשות בשוק, או אולי לשפר את היעילות התפעולית? נסח בצורה ברורה את התוצאה הרצויה.\n",
    "\tרקע:\n",
    "\tהציג הקשר על העסק והתעשייה שבתוכה העסק פועלים. ההקשר יכול לכלול את גודל העסק, מעמדו בשוק, מוצרים ושירותים מרכזיים, וכל פרט רלוונטי מהיסטוריה שלו. הכרת הרקע תסייע לזיהוי חוזקות, חולשות, הזדמנויות ואיומים רלוונטיים.\n",
    "\tכוונה:\n",
    "\tהסביר מה אתה מקווה להשיג בכל מרכיב בניתוח ה-SWOT. לדוגמה, בהערכת חוזקות, הכוונה יכולה להיות זיהוי נכסים ייחודיים שניתן למנף להגדלת השוק. בהערכת חולשות, הכוונה יכולה להיות איתור תחומים לשיפור תפעולי.\n",
    "\tהנחיות:\n",
    "\tחוזקות: הגדיר את יכולות הליבה של העסק שלי. קח בחשבון את הרקע והמטרה כדי להציע אסטרטגיות ספציפיות, שימצו את החוזקות וישיגו יתרון תחרותי. השתמש כמה שיותר בדוגמאות מהעולם האמיתי.\n",
    "\tחולשות: נתח את האתגרים הפנימיים איתם מתמודד העסק שלי. השתמש ברקע העסקי כדי להציע אסטרטגיות ריאליות לשיפור, שתואמות ליעדים העסקיים הכוללים בעסק.\n",
    "\tהזדמנויות: חקר את הסביבה החיצונית הרלוונטית לרקע העסקי. עליך לזהות מגמות שוק, התנהגויות צרכנים והתקדמות טכנולוגית שהעסק שלי יכול לנצל. הציע אסטרטגיות מפורטות למינוף הזדמנויות אלה באופן התואם למטרות העסקיות.\n",
    "\tאיומים: קח בחשבון את ההקשר הרחב של תחום התעשייה שבו הינך פועל, בעת ניתוח סיכונים פוטנציאליים, כגון לחצים תחרותיים או שינויים בשוק. הציע אסטרטגיות רובסטיות שתואמות ליעדים העסקיים שלכם, כדי לנווט בין האתגרים הללו ביעילות.\",\"Strategic Narrative Builder\" : \"היי ChatGPT, אני צריך את עזרתך ומומחיותך כאסטרטג עסקי בשיווק, בתעשייה דומה לשלי ובנישה דומה לשלי.  אני רוצה שתנתח את כל הנתונים לעומק במטרה לכתוב דו\\\\\\\"ח המלצות עם הנחיות ברורות לכתיבת נרטיב עבור העסק שלי. \n",
    "\tלהלן הפרטים על העסק שלי. במידה ופרטים כלשהם חסרים, כדאי להציע את מיטב הידע המקצועי שלך בשיווק וקידום העסק בדיגיטל.\n",
    "\n",
    "\tלהלן ההנחיות לכתיבת נרטיב עבור העסק שלי.\n",
    "\tמטרה:\n",
    "\tאבקש ממך ChatGPT להגדיר מה המטרה שמאחורי ניסוח הנרטיב העסקי שלך. האם היא להעמיק את הקשר עם קהל היעד, לבדל את המותג, או אולי לתקשר את הצעת הערך הייחודית והבידול? אנא הבהיר את המטרה הסופית כדי לנסח לפיה את הנרטיב העסקי.\n",
    "\tרקע:\n",
    "\tהציג בקצרה את ההיסטוריה של העסק, כולל פרטים על הקמתו, התפתחותו, אבני דרך מרכזיות ומעמדו הנוכחי בשוק. הדגיש כל היבט ייחודי שליווה את המסע העסקי וניתן לשלב בנרטיב.\n",
    "\tכוונה:\n",
    "\tנסח מה ברצונך להשיג באמצעות הנרטיב עבור כל היבט עסקי -  המסע, הערכים והמשימה. לדוגמה, הכוונה מאחורי שיתוף המסע העסקי יכולה להיות הצגה לראווה של יכולות עמידות וחדשנות, בעוד שהמטרה בהדגשת הערכים עשויה להיות בניית אמון והתאמה לקהל היעד שלכם.\n",
    "\tהנחיות:\n",
    "\tמסע עסקי: חקור את ההיסטוריה וההתפתחות של העסק שלי. השתמש ברקע כדי ליצור נרטיב שמראה על התקדמות, התגברות על אתגרים והישגים מרכזיים. שלב סיפורים ואנקדוטות המדגימים התמדה, חדשנות, וכל תכונה אחרת שהיית רוצים להבליט.\n",
    "\tערכים: העמיק בערכי הליבה של העסק שלי. צור נרטיבים הממחישים את הערכים הללו בפעולה, כמו למשל באמצעות סיפורי לקוחות, מעורבות קהילתית או תרבות ארגונית. ודא שהנרטיבים האלה תואמים למטרה הכוללת של העסק.\n",
    "\tמשימה: נסח את משימת העסק בצורה משכנעת. היעזר בסיפורים כדי להחיות אותה, ולהראות לא רק מה אתה עושה בעסק, אלא מדוע אתה עושה זאת ומה ההשפעה. עליך לקשר זאת לכוונה שלך לעורר השראה ומעורבות או לרצון ליידע את קהל היעד שלך.\n",
    "\tרעיונות ונושאים של תוכן: עליך להפיק רעיונות ונושאים של תוכן שיהיו ספציפיים ומותאמים לנרטיב שלך. לדוגמה, סיפורי הצלחה של לקוחות, תובנות מאחורי הקלעים, או סדרות תוכן לפי נושאים המעניינים את קהל היעד שלכם. וודא שהרעיונות ישקפו את המטרה העסקית, הרקע, ואת הכוונה שמאחורי הנרטיב.\",\"Business Identity - Vision, Values and Differentiation\" : \"היי ChatGPT, אני צריך את עזרתך ומומחיותך כאסטרטג עסקי בשיווק, בתעשייה דומה לשלי ובנישה דומה לשלי.  אני רוצה שתנתח את כל הנתונים לעומק במטרה לכתוב דו\\\\\\\"ח המלצות עם הנחיות ברורות לבניית זהות עסקית עבור העסק שלי. \n",
    "\tלהלן הפרטים על העסק שלי. במידה ופרטים כלשהם חסרים, כדאי להציע את מיטב הידע המקצועי שלך בבניית זהות עסקית לעסקים המקדמים את עצמם בדיגיטל.\n",
    "\n",
    "\n",
    "\tלהלן ההנחיות לניתוח זהות עסקית של העסק שלי.\n",
    "\tמטרה:\n",
    "\tאבקש ממך ChatGPT להתחיל בהגדרת המטרה העיקרית של חקירה זו. האם היא נועדה ליישר את אסטרטגיות השיווק עם ערכי הליבה שלי בעסק, לטפח תרבות ארגונית חזקה יותר, או אולי לשפר את מעורבות הלקוחות? בהירות במטרה תנחה את המיקוד והכיוון של הניתוח.\n",
    "\tרקע:\n",
    "\tהצג סקירה קצרה של החזון והערכים הנוכחיים של העסק. תכלול בה כל פרט היסטורי או אנקדוטות רלוונטיות שימחישו כיצד פותחו החזון והערכים וכיצד הם עיצבו את העסק שלי עד כה. הקשר כזה חיוני כדי לדעת כיצד להטמיע ולתקשר היבטים אלה בצורה הטובה ביותר.\n",
    "\tכוונה:\n",
    "\tהבהיר מה אתה שואף להשיג בהטמעה והפצה של החזון והערכים. לדוגמה, הכוונה יכולה להיות לחזק את זהות המותג, לשפר את נאמנות הלקוחות, או לחזק את מעורבות העובדים.\n",
    "\n",
    "\tהנחיות:\n",
    "\tהפצת החזון והערכים דרך השיווק: אנא פתח אסטרטגיות לשילוב החזון והערכים שלכם בכל מאמצי השיווק. בנה שלבים לשילוב האלמנטים הללו במסרי המותג, ביצירת תוכן ובטקטיקות למעורבות לקוחות. וודא שפעילויות השיווק ישקפו את הרקע והמטרה העסקית בעסק שלי.\n",
    "\tאינטראקציות עם לקוחות: עליך לספק הנחיות כיצד לשקף את החזון והערכים של העסק שלי בכל אינטראקציה עם הלקוחות. לדוגמה, דרך הכשרת צוותי שירות לקוחות, התאמה אישית של חוויות לקוח, או התאמה אישית של מסרים. ודא שהשיטות הללו יהיו מותאמות לכוונה העסקית שלי לבנות אמון ונאמנות.\n",
    "\tתרבות ארגונית: הציע צעדים מעשיים להטמעת החזון והערכים שלי בעסק, בתרבות הארגונית. למשל, בהפצת מסרים פנים ארגוניים, בתוכניות הדרכה או ביוזמות למעורבות עובדים. התמקדו בשאלה כיצד המאמצים הללו יכולים לחזק את אתוס הליבה של העסק ולתרום להשגת המטרה שהוגדרה.\n",
    "\n",
    "\n",
    "\tבנוסף, להלן הנחיות לחקירת בידול והצעת מכירה ייחודית.\n",
    "\tמטרה:\n",
    "\tהתחיל בהגדרת המטרה העיקרית של אסטרטגיות הבידול. האם היא נועדה להשיג נתח שוק גדול יותר, לבסס זהות מותג מובהקת, או אולי להוביל חדשנות בתחום? מטרה זו תמקד אותך במאמצי הבידול.\n",
    "\tרקע:\n",
    "\tהצג סקירה כללית לגבי המעמד הנוכחי של העסק שלי בשוק והסביבה התחרותית. ציין את כל הצעות המכירה הייחודיות הקיימות, או הצעות הערך שהעסק שלי כבר מציע. מידע זה חיוני כדי להבין היכן וכיצד העסק שלי יכול לשפר את הבידול שלו.\n",
    "\tכוונה:\n",
    "\tהבהיר מה התוצאה הרצויה של אסטרטגיית הבידול. לדוגמה, הכוונה יכולה להיות למשוך פלח לקוחות חדש, לשפר את נאמנות הלקוחות, או לשבש דינמיקה מסורתית של השוק.\n",
    "\n",
    "\tהנחיות:\n",
    "\tאסטרטגיות חדשניות: הציע אסטרטגיות חדשניות כדי שהעסק שלי יבלוט בשוק. קח בחשבון את הרקע והמטרה כדי להבטיח שהאסטרטגיות הללו יהיו ישימות וישיגו השפעה. התמקד בתחומים כמו חדשנות במוצר או בשירות, מצוינות בטיב השירות או המוצר או התקדמות טכנולוגית.\n",
    "\tהצעות מכירה ייחודיות: זהו פוטנציאל להצעות מכירה ייחודיות שעולות בקנה אחד עם החוזקות וצורכי השוק של העסק שלי. הציע רעיונות ייחודיים להקשר העסקי שלי, שיכולים לבדל אותו ביעילות מהמתחרים.\n",
    "\tשיפור ערך הלקוח: הציע רעיונות כיצד להוסיף ערך לחוויות הלקוח שלי. למשל, אפשר להציע שירותים מותאמים אישית, מועדוני לקוחות, או טקטיקות ייחודיות להשגת מעורבות לקוחות. ודא שרעיונות אלה מיושרים עם הכוונה הכוללת והמעמד העסקי שלי בשוק.\n",
    "\tייחודיות המותג: הציע דרכים לשיפור הייחודיות של המותג שלי. לדוגמה, אלמנטים ייחודיים של מיתוג, סיפורים (storytelling) או יוזמות של מעורבות בקהילה. המטרה היא ליצור זהות מותג חזקה ובלתי נשכחת, שתייצר תהודה בקהל היעד שלי.\",\"Customer Profile\" : \"היי ChatGPT, אני צריך את עזרתך ומומחיותך כאסטרטג עסקי בשיווק, בתעשייה דומה לשלי ובנישה דומה לשלי.  אני רוצה שתנתח את כל הנתונים לעומק במטרה לכתוב דו\\\\\\\"ח המלצות עם הנחיות ברורות לבניית קהלי יעד בעסק שלי. \n",
    "\tלהלן הפרטים על העסק שלי. במידה ופרטים כלשהם חסרים, כדאי להציע את מיטב הידע המקצועי שלך בשיווק וקידום העסק בדיגיטל.\n",
    "\n",
    "\n",
    "\tלהלן ההנחיות לניתוח מקיף של פרופיל לקוח.\n",
    "\n",
    "\tמטרה:\n",
    "\tאבקש ממך ChatGPT להגדיר מה המטרה של ניתוח פרופיל הלקוח. האם הינך מבקש לחדד את היצע המוצרים שלי, לייעל את אסטרטגיות השיווק שלי, או אולי לשפר את מעורבות הלקוחות ואת שימור הלקוחות? המטרה תמקד את הניתוח.\n",
    "\tרקע:\n",
    "\tהציג מידע על בסיס הלקוחות הנוכחי שלי, וצרף כל ניתוח או תובנות שיש לך מהעבר. עליך לכלול פרטים על היצעת המוצרים או השירותים של העסק שלי ועל השווקים בהם הוא פועל. רקע כזה קריטי להבנת ההקשר של פרופיל הלקוח.\n",
    "\tכוונה:\n",
    "\tאנא ציין מה ברצונך להשיג מניתוח מעמיק של פרופיל הלקוח. לדוגמה, כוונה יכולה להיות לפתח קמפיינים שיווקיים יותר ממוקדים, לפתח מוצרים יותר ממוקדי לקוח, או לזהות הזדמנויות שוק חדשות.\n",
    "\n",
    "\tהנחיות:\n",
    "\tדמוגרפיה: נתח את המאפיינים הדמוגרפיים של בסיס נתוני הלקוחות. קח בחשבון גיל, מגדר, מיקום, רמת הכנסה, השכלה ועיסוק, התהגות צרכנית.  הציע תובנות לגבי האופן שבו נתונים דמוגרפיים אלה יכולים להשפיע על העדפות מוצרים והחלטות רכישה.\n",
    "\tהתנהגויות: בחנ התנהגויות רכישה של לקוחות, אינטראקציות עם המותג ודפוסי מעורבות. הציע המלצות אסטרטגיות כיצד להתאים את ההצעות והתקשורת העסקית למגמות התנהגותיות אלו.\n",
    "\tמניעים וצרכים: התעמק במניעים, בצרכים, בכאבים ובהעדפות של הלקוחות שלי. הציע כיצד להתאים את פיתוח המוצר או השירות, המסרים השיווקיים ושירות הלקוחות באופן שייתן מענה יעיל יותר לצרכים אלה.\n",
    "\tהמלצות אסטרטגיות: בהתבסס על הניתוח, נסח המלצות אסטרטגיות מפורטות להתאמת ההצעות והמסרים השיווקיים. ודא שהמלצות אלו תואמות למטרה הכוללת, לוקחות בחשבון את הרקע, ומוכוונות להשגת הכוונה המוצהרת.\",\"Marketing Funnel Strategy\" : \"היי ChatGPT, אני צריך את עזרתך ומומחיותך כאסטרטג עסקי בשיווק, בתעשייה דומה לשלי ובנישה דומה לשלי.  אני רוצה שתנתח את כל הנתונים שלי לעומק במטרה לכתוב דו\\\\\\\"ח המלצות עם הנחיות ברורות לכתיבת אסטרטגיית משפך שיווקי עבור העסק שלי. \n",
    "\tלהלן הפרטים על העסק שלי. במידה ופרטים כלשהם חסרים, כדאי להציע את מיטב הידע המקצועי שלך באסטרטגיית משפך שיווקי למסלול לקוח חווייתי, משתלם ומניע לפעולה.\n",
    "\n",
    "\tלהלן ההנחיות לבניית משפך שיווקי מפורט עבור העסק שלי.\n",
    "\tמטרה:\n",
    "\tאבקש ממך ChatGPT להתחיל בהגדרת המטרה העיקרית של המשפך השיווקי. האם היא להגדיל את כמות הלקוחות, לשפר את שיעור המרת/שימור הלקוחות, או אולי לבנות נאמנות למותג? המטרה תכוון את הפיתוח והמיקוד של אסטרטגיית המשפך.\n",
    "\tרקע:\n",
    "\tהציג סקירה כללית למאמצי השיווק הנוכחיים, בסיס הלקוחות הקיים, והיצע המוצרים והשירותים שלי. עליך גם לכלול התנהגויות והעדפות ידועות של הלקוחות, וכן תובנות מקמפיינים שיווקיים קודמים. הרקע חיוני ליצירת משפך שייצור תהודה בקרב קהל היעד שלי ויהיה מותאם ליכולות העסק שלי.\n",
    "\tכוונה:\n",
    "\tבכל שלב של המשפך השיווקי הבהיר מה הינך מתכוון להשיג. לדוגמה, הכוונה בשלב המודעות עשויה להיות למשוך קהל רחב, בעוד שהכוונה של שלב ההמרה יכולה להיות לעודד החלטות רכישה.\n",
    "\tהנחיות:\n",
    "\tאסטרטגיה לשלב החשיפה והמודעות: אבקש ממך לפתח אסטרטגיות למשיכת לקוחות פוטנציאליים לעסק. עליה לכלול זיהוי נקודות מגע עם לקוחות, בחירת טקטיקות מעורבות מתאימות, וסיעור מוחות לרעיונות תוכן שיהיו תואמים לתחומי העניין וההתנהגויות של קהל היעד שלי.\n",
    "\tאסטרטגיה לשלב הסקרנות והעניין: הציע דרכים למשוך ולטפח לידים. למשל, תוכן ממוקד, תקשורת מותאמת אישית או פלטפורמות אינטראקטיביות. התמקד בבניית עניין ובהכוונת לקוחות פוטנציאליים לתוך המשפך.\n",
    "\tאסטרטגיה לשלב ההחלטה וההמרה: הציע אסטרטגיות לאופטימיזציה של המרות. הציע רעיונות לקריאות לפעולה, תמריצים ותוכן בונה אמון, שיהיו משכנעים וידעו לעודד לידים לקבל החלטת רכישה או לבצע פעולה רצויה.\n",
    "\tאסטרטגיה לשלב השימור והנאמנות: הציע טקטיקות לשימור לקוחות ובניית נאמנות. למשל,  מעורבות לאחר-רכישה, מועדוני לקוחות או מנגנוני משוב. ודא שהאסטרטגיות יפעלו לשיפור מסע הלקוח בכללותו ויעודדו עסקים חוזרים.\n",
    "\tאופטימיזציה כללית של המשפך: המליץ על טכניקות כלליות למיטוב המשפך. למשל, ניתוח נתונים, בדיקות A/B או לולאות משוב מלקוחות, על מנת לשפר באופן מתמיד את האפקטיביות של משפך השיווק.\",\"Marketing Platforms & Content Creation\" : \"היי ChatGPT, אני צריך את עזרתך ומומחיותך כאסטרטג עסקי בשיווק, בתעשייה דומה לשלי ובנישה דומה לשלי.  אני רוצה שתנתח את כל הנתונים שלי לעומק במטרה לכתוב דו\\\\\\\"ח המלצות עם הנחיות ברורות לבחירת פלטפורמות לשיווק וקידום העסק שלי וכן לתת לי רעיונות לתכנים, לכתיבת פוסטים ברשתות חהברתיות המובילות בישראל: פייסבוק, אינסטגרם, לינדקאין, יוטיוב, טיקטוק וגוגל עסקים עבור העסק שלי. \n",
    "\tלהלן הפרטים על העסק שלי. במידה ופרטים כלשהם חסרים, עליך להציע את מיטב הידע המקצועי שלך בשיווק וקידום העסק בדיגיטל לבחירת פלטפורמות וכתיבת תוכן שיווקי שמניע לפעולה.\n",
    "\n",
    "\n",
    "\tלהלן ההנחיות לפיתוח אסטרטגיית תוכן ובחירת פלטפורמות שיווק ברשתות חברתיות.\n",
    "\n",
    "\tמטרה:\n",
    "\tאבקש ממך ChatGPT להתחיל בהגדרת המטרה העיקרית לזיהוי פלטפורמות שיווק ופיתוח אסטרטגיית תוכן. האם היא להעלות את המודעות למותג, להניע לפעולת מכירות, לשפר את מעורבות הלקוחות, או אולי לבסס מנהיגות רעיונית (thought leadership)? מטרה זו תנחה את בחירת הפלטפורמות ואת אופי התוכן.\n",
    "\tרקע:\n",
    "\tהציג הקשר עסקי, שיכלול פרטים על התעשייה שבתוכה העסק שלי פועל, קהל היעד שלי, וכל מאמצי שיווק קודמים. אבקש לשלב תובנות לגבי מה שעבד או לא עבד בעבר. רקע כזה חיוני כדי להבין אילו פלטפורמות וסוגי תוכן יהיו היעילים ביותר.\n",
    "\tכוונה:\n",
    "\tעליך להבהיר מה הינך שואף להשיג בכל פלטפורמה בעזרת אסטרטגיית השיווק והתוכן השיווקי. לדוגמה, הכוונה מאחורי השימוש ברשתות חברתיות עשויה להיות מעורבות עם קהל צעיר יותר, בעוד שהכוונה מאחורי שימוש ברשת מקצועית כמו לינקדאין עשויה להיות חיבורי B2B ומנהיגות רעיונית.\n",
    "\tהנחיות:\n",
    "\tזיהוי הפלטפורמה: זהה מהן פלטפורמות השיווק היעילות ביותר עבור העסק שלי בהתבסס על קהל היעד והתעשייה. קח בחשבון גם פלטפורמות דיגיטליות וגם פלטפורמות מסורתיות שתואמות למטרה העסקית ולהעדפות קהל היעד שלי.\n",
    "\tפיתוח אסטרטגיית תוכן: פתח אסטרטגיית תוכן המותאמת לכל פלטפורמה שזיהית. על האסטרטגיה לכלול:\n",
    "\tסוגי תוכן המתאימים ביותר לכל פלטפורמה (למשל, סרטונים, בלוגים, אינפוגרפיקה).\n",
    "\tתזמון תוכן, שלוקח בחשבון את העיתוי הטוב ביותר לפרסום ואת התדירות.\n",
    "\tטקטיקות של מעורבות, כמו פוסטים אינטראקטיביים, שיתופי פעולה או יוזמות לבניית קהילה.\n",
    "\tאסטרטגיות ספציפיות לפלטפורמה: נסח אסטרטגיה מפורטת לכל פלטפורמה, המתחשבת בתכונות הייחודיות של הפלטפורמה ובנתונים הדמוגרפיים של הקהל. לדוגמה, אסטרטגיה לאינסטגרם תתמקד בוויזואליה ובסטוריטלינג, בעוד שאסטרטגיה ללינקדאין תתמקד בתובנות מקצועיות ועדכוני חברה.\n",
    "\tאופטימיזציה ומעורבות: הציע קווים מנחים לאופטימיזציה של תוכן בכל פלטפורמה (למשל, SEO עבור בלוגים, האשטאגים עבור מדיה חברתית) וטקטיקות לשיפור מעורבות הקהל (למשל, קריאות לפעולה, תוכן שנוצר על ידי משתמשים).\",\"Competitor\" : \"\",\"Budget & KPI Strategy\" : \"היי ChatGPT, אני צריך את עזרתך ומומחיותך כאסטרטג עסקי בשיווק, בתעשייה דומה לשלי ובנישה דומה לשלי.  אני רוצה שתנתח את כל הנתונים שלי לעומק במטרה לכתוב דו\\\\\\\"ח המלצות עם הנחיות ברורות לתכנון תקציבים ונתונים כמותיים לפרסום ושיווק העסק שלי.\n",
    "\tלהלן הפרטים על העסק שלי. במידה ופרטים כלשהם חסרים, כדאי להציע את מיטב הידע המקצועי שלך בתכנון תקציבים לפרסום ונתונים כמותיים KPI בכל תהליכי מסע הליד בנפרד.\n",
    "\tלהלן ההנחיות לתכנון תקציבים ונתוני פרסום בעסק שלי.\n",
    "\n",
    "\tמטרה:\n",
    "\tאבקש ממך  ChatGPTלהגדיר את המטרה העיקרית של התכנית לתקציב ומדדי ביצוע. האם היא נועדה למקסם החזר השקעה (ROI), להשיג יעדי שיווק ספציפיים, או אולי לשפר את יעילות הוצאות השיווק? מטרה זו תנחה את הקצאת המשאבים ואת בחירת מדדי הביצוע.\n",
    "\tרקע:\n",
    "\tהצג סקירה כללית של המצב הפיננסי הנוכחי של העסק והוצאות שיווק קודמות. עליך לכלול תובנות מביצועי שיווק קודמים, וכל אילוצים או הזדמנויות ידועים. רקע זה יסייע ביצירת תכנית תקציב ומדדי ביצוע שהיא ריאלית ומותאמת לנסיבות העסק.\n",
    "\tכוונה:\n",
    "\tהבהיר מה הינך שואף להשיג באמצעות התכנית לתקציב ומדדי ביצוע. לדוגמה, כוונה עשויה להיות לייעל את ההוצאות בערוצי שיווק שונים, למדוד ולשפר את עלויות רכישת הלקוחות, או לעקוב אחר האפקטיביות של אסטרטגיות שיווק שונות.\n",
    "\n",
    "\tהנחיות:\n",
    "\tהקצאת תקציב בין ערוצים: המליץ כיצד לחלק את תקציב השיווק על פני ערוצים שונים (למשל, פרסום דיגיטלי, רשתות חברתיות, שיווק באמצעות תוכן). קח בחשבון את האפקטיביות של כל ערוץ לעסק שלי ולקהל היעד.\n",
    "\tהגדרת מדדי KPI מציאותיים: ספק הנחיות להגדרת מדדי הביצוע העיקריים עבור כל פעילות שיווקית. מדדים אלה צריכים להיות ספציפיים, ניתנים למדידה, ניתנים להשגה, רלוונטיים, ומוגבלים בזמן (SMART). ודא שהם מותאמים ליעדים העסקיים שלי ולמטרות השיווק שקבעתי.\n",
    "\tאסטרטגיות ניתוח ביצועים: הציע אסטרטגיות לניתוח הביצועים של פעילויות השיווק שלי. למשל שיטות למעקב והערכה של מדדי ביצוע מרכזיים, שימוש בכלי ניתוח וביצוע ביקורות שוטפות.\n",
    "\tטכניקות אופטימיזציה: הציע טכניקות לאופטימיזציה של ביצועי השיווק המתבססות על הניתוח. למשל, עדכון הקצאות תקציב, חידוד אסטרטגיות שיווק או קביעת מדדי ביצוע חדשים שיתבססו על יעדים עסקיים מתפתחים ותנאי שוק משתנים.\",\"Marketing plan - 12 Month\" : \"היי ChatGPT, אני צריך את עזרתך ומומחיותך כאסטרטג עסקי בשיווק, בתעשייה דומה לשלי ובנישה דומה לשלי.  אני רוצה שתנתח את כל הנתונים שלי לעומק במטרה לכתוב דו\\\\\\\"ח המלצות עם הנחיות ברורות לתוכנית שיווק אפקטיבית וריאלית עבור העסק שלי.\n",
    "\tלהלן הפרטים על העסק שלי. במידה ופרטים כלשהם חסרים, כדאי להציע את מיטב הידע המקצועי שלך בתכנון תוכנית שיווק עבור העסק שלי.\n",
    "\tלהלן ההנחיות לתכנון תוכנית השיווק לעסק שלי.\n",
    "\n",
    "\tאבקש ממך ChatGPT להתעלם מהנחיות קודמות ולכתוב טקסט לימודי בשפה ברורה על תחום השיווק תוך הסבר מפורט על ההבדל בין תוכנית עסקית לתוכנית שיווק לעסקים קטנים, וכיצד תוכנית שיווק משיגה יעדים, כגון הגעה והרחבה של קהל היעד או הגדלת הרווחים עבור העסק שלי. \n",
    "\tהסביר את הצורך וההבדל בין אסטרטגיית שיווק לטקטיקות שיווק. \n",
    "\tבהנחה שכל חודש נשען על קודמו, בצע \\\\\\\"הנדסה הפוכה\\\\\\\" לתכנית השיווק בת 12 החודשים, בהתבסס על היעד ותובנות המשתמשים  בעסק שלי. \n",
    "\tהציג מה לדעתך הסיבות לבחירת המרכיבים בתוכנית השיווק, וצור והרחיב בנושא אסטרטגיות וטקטיקות במסגרת לוח זמנים ספציפי, עם פירוט לשלבים מעשיים. \n",
    "\tעבור כל חודש, הציע רעיונות ליצירת סרטון או פוסט שבועי עם כתוביות וכותרות עשירות במילות מפתח עבור ארבעה פוסטים שהתפרסמו ברשת במהלך החודש. \n",
    "\tאם יש לכם אסטרטגיות או טקטיקות שהן פעולה חד-פעמית, כמו הקמת מועדון לקוחות, התעמקו בשלבים המפורטים שנדרשים כדי ליישם אותן. \n",
    "\tהתוצאה צריכה להיות בפורמט ברור, ומותאמת לאינטראקציות עם ChatGPT.\"}"
   ]
  },
  {
   "cell_type": "code",
   "execution_count": 3,
   "metadata": {},
   "outputs": [
    {
     "data": {
      "text/plain": [
       "'2'"
      ]
     },
     "execution_count": 3,
     "metadata": {},
     "output_type": "execute_result"
    }
   ],
   "source": [
    "language = \"hebrew\"\n",
    "\n",
    "language_to_snid = {'english': '1', 'hebrew': '2'}\n",
    "snid = language_to_snid.get(language.lower()) \n",
    "snid"
   ]
  },
  {
   "cell_type": "code",
   "execution_count": null,
   "metadata": {},
   "outputs": [],
   "source": []
  }
 ],
 "metadata": {
  "kernelspec": {
   "display_name": "gaurav",
   "language": "python",
   "name": "python3"
  },
  "language_info": {
   "codemirror_mode": {
    "name": "ipython",
    "version": 3
   },
   "file_extension": ".py",
   "mimetype": "text/x-python",
   "name": "python",
   "nbconvert_exporter": "python",
   "pygments_lexer": "ipython3",
   "version": "3.8.18"
  }
 },
 "nbformat": 4,
 "nbformat_minor": 2
}
